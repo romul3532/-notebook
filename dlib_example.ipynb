{
  "nbformat": 4,
  "nbformat_minor": 0,
  "metadata": {
    "colab": {
      "provenance": [],
      "authorship_tag": "ABX9TyMKylwIGmZBK2Wnx21co4IE",
      "include_colab_link": true
    },
    "kernelspec": {
      "name": "python3",
      "display_name": "Python 3"
    },
    "language_info": {
      "name": "python"
    }
  },
  "cells": [
    {
      "cell_type": "markdown",
      "metadata": {
        "id": "view-in-github",
        "colab_type": "text"
      },
      "source": [
        "<a href=\"https://colab.research.google.com/github/romul3532/-notebook/blob/master/dlib_example.ipynb\" target=\"_parent\"><img src=\"https://colab.research.google.com/assets/colab-badge.svg\" alt=\"Open In Colab\"/></a>"
      ]
    },
    {
      "cell_type": "code",
      "execution_count": null,
      "metadata": {
        "colab": {
          "base_uri": "https://localhost:8080/"
        },
        "id": "ZK-MbTZ03JWE",
        "outputId": "309b0849-0c5e-43eb-d010-d2001c92eb80"
      },
      "outputs": [
        {
          "output_type": "stream",
          "name": "stdout",
          "text": [
            "Requirement already satisfied: dlib in /usr/local/lib/python3.11/dist-packages (19.24.6)\n"
          ]
        }
      ],
      "source": [
        "!pip install dlib\n"
      ]
    },
    {
      "cell_type": "code",
      "source": [
        "## %pip install cmake\n",
        "## %pip install dlib\n",
        "import dlib as dl"
      ],
      "metadata": {
        "id": "5sGSDg4F3jR3"
      },
      "execution_count": null,
      "outputs": []
    },
    {
      "cell_type": "code",
      "source": [
        "import dlib as dl\n",
        "detector=dl.get_frontal_face_detector() ##\n",
        "\n",
        "file='https://media.istockphoto.com/id/1919265357/photo/close-up-portrait-of-confident-businessman-standing-in-office.jpg?s=1024x1024&w=is&k=20&c=EpLEZWEw-pZhhhknmmxUubZK_UL7EuXzMe202LEu3SA='\n",
        "## 'https://www.freepik.com/free-photo/portrait-man-laughing_12478216.htm#fromView=image_search_similar&page=1&position=1&uuid=79338113-0f51-4c79-84dd-5803f18face8'\n",
        "## file='https://www.freepik.com/free-photo/portrait-white-man-isolated_3199590.htm#fromView=keyword&page=1&position=0&uuid=273dbcd8-a00d-4f6a-85e9-4b53e16e3759&query=Human+Face+Face'\n",
        "## 'blob:https://colab.research.google.com/ccbde8f0-52f1-4192-8a1b-bd885c9da1d9' ##\n",
        "predictor=dl.shape_predictor(file) ##\n",
        "print('')\n",
        "print('predictor=',predictor)"
      ],
      "metadata": {
        "id": "qHdESK5h3nGT",
        "colab": {
          "base_uri": "https://localhost:8080/",
          "height": 245
        },
        "outputId": "7f4239ba-bfc8-4cb4-b93a-66f5c00091cd"
      },
      "execution_count": null,
      "outputs": [
        {
          "output_type": "error",
          "ename": "RuntimeError",
          "evalue": "Unable to open https://media.istockphoto.com/id/1919265357/photo/close-up-portrait-of-confident-businessman-standing-in-office.jpg?s=1024x1024&w=is&k=20&c=EpLEZWEw-pZhhhknmmxUubZK_UL7EuXzMe202LEu3SA=",
          "traceback": [
            "\u001b[0;31m---------------------------------------------------------------------------\u001b[0m",
            "\u001b[0;31mRuntimeError\u001b[0m                              Traceback (most recent call last)",
            "\u001b[0;32m<ipython-input-9-566877957215>\u001b[0m in \u001b[0;36m<cell line: 0>\u001b[0;34m()\u001b[0m\n\u001b[1;32m      6\u001b[0m \u001b[0;31m## file='https://www.freepik.com/free-photo/portrait-white-man-isolated_3199590.htm#fromView=keyword&page=1&position=0&uuid=273dbcd8-a00d-4f6a-85e9-4b53e16e3759&query=Human+Face+Face'\u001b[0m\u001b[0;34m\u001b[0m\u001b[0;34m\u001b[0m\u001b[0m\n\u001b[1;32m      7\u001b[0m \u001b[0;31m## 'blob:https://colab.research.google.com/ccbde8f0-52f1-4192-8a1b-bd885c9da1d9' ##\u001b[0m\u001b[0;34m\u001b[0m\u001b[0;34m\u001b[0m\u001b[0m\n\u001b[0;32m----> 8\u001b[0;31m \u001b[0mpredictor\u001b[0m\u001b[0;34m=\u001b[0m\u001b[0mdl\u001b[0m\u001b[0;34m.\u001b[0m\u001b[0mshape_predictor\u001b[0m\u001b[0;34m(\u001b[0m\u001b[0mfile\u001b[0m\u001b[0;34m)\u001b[0m \u001b[0;31m##\u001b[0m\u001b[0;34m\u001b[0m\u001b[0;34m\u001b[0m\u001b[0m\n\u001b[0m\u001b[1;32m      9\u001b[0m \u001b[0mprint\u001b[0m\u001b[0;34m(\u001b[0m\u001b[0;34m''\u001b[0m\u001b[0;34m)\u001b[0m\u001b[0;34m\u001b[0m\u001b[0;34m\u001b[0m\u001b[0m\n\u001b[1;32m     10\u001b[0m \u001b[0mprint\u001b[0m\u001b[0;34m(\u001b[0m\u001b[0;34m'predictor='\u001b[0m\u001b[0;34m,\u001b[0m\u001b[0mpredictor\u001b[0m\u001b[0;34m)\u001b[0m\u001b[0;34m\u001b[0m\u001b[0;34m\u001b[0m\u001b[0m\n",
            "\u001b[0;31mRuntimeError\u001b[0m: Unable to open https://media.istockphoto.com/id/1919265357/photo/close-up-portrait-of-confident-businessman-standing-in-office.jpg?s=1024x1024&w=is&k=20&c=EpLEZWEw-pZhhhknmmxUubZK_UL7EuXzMe202LEu3SA="
          ]
        }
      ]
    }
  ]
}